{
  "cells": [
    {
      "cell_type": "code",
      "execution_count": 54,
      "id": "cf648fd4",
      "metadata": {
        "id": "cf648fd4"
      },
      "outputs": [],
      "source": [
        "import numpy as np\n",
        "import pandas as pd\n",
        "import imblearn\n",
        "import seaborn as sns\n",
        "import matplotlib.pyplot as plt\n",
        "from sklearn.metrics import classification_report,confusion_matrix\n",
        "from sklearn.metrics import *\n",
        "from sklearn import metrics\n",
        "from sklearn.model_selection import train_test_split\n",
        "%matplotlib inline\n"
      ]
    },
    {
      "cell_type": "code",
      "execution_count": 55,
      "id": "C93wxIiRNz5A",
      "metadata": {
        "id": "C93wxIiRNz5A"
      },
      "outputs": [
        {
          "data": {
            "text/html": [
              "<div>\n",
              "<style scoped>\n",
              "    .dataframe tbody tr th:only-of-type {\n",
              "        vertical-align: middle;\n",
              "    }\n",
              "\n",
              "    .dataframe tbody tr th {\n",
              "        vertical-align: top;\n",
              "    }\n",
              "\n",
              "    .dataframe thead th {\n",
              "        text-align: right;\n",
              "    }\n",
              "</style>\n",
              "<table border=\"1\" class=\"dataframe\">\n",
              "  <thead>\n",
              "    <tr style=\"text-align: right;\">\n",
              "      <th></th>\n",
              "      <th>City</th>\n",
              "      <th>Date</th>\n",
              "      <th>PM2.5</th>\n",
              "      <th>PM10</th>\n",
              "      <th>NO</th>\n",
              "      <th>NO2</th>\n",
              "      <th>NOx</th>\n",
              "      <th>NH3</th>\n",
              "      <th>CO</th>\n",
              "      <th>SO2</th>\n",
              "      <th>O3</th>\n",
              "      <th>Benzene</th>\n",
              "      <th>Toluene</th>\n",
              "      <th>Xylene</th>\n",
              "      <th>AQI</th>\n",
              "      <th>AQI_Bucket</th>\n",
              "    </tr>\n",
              "  </thead>\n",
              "  <tbody>\n",
              "    <tr>\n",
              "      <th>0</th>\n",
              "      <td>Ahmedabad</td>\n",
              "      <td>2015-01-01</td>\n",
              "      <td>NaN</td>\n",
              "      <td>NaN</td>\n",
              "      <td>0.92</td>\n",
              "      <td>18.22</td>\n",
              "      <td>17.15</td>\n",
              "      <td>NaN</td>\n",
              "      <td>0.92</td>\n",
              "      <td>27.64</td>\n",
              "      <td>133.36</td>\n",
              "      <td>0.00</td>\n",
              "      <td>0.02</td>\n",
              "      <td>0.00</td>\n",
              "      <td>NaN</td>\n",
              "      <td>NaN</td>\n",
              "    </tr>\n",
              "    <tr>\n",
              "      <th>1</th>\n",
              "      <td>Ahmedabad</td>\n",
              "      <td>2015-01-02</td>\n",
              "      <td>NaN</td>\n",
              "      <td>NaN</td>\n",
              "      <td>0.97</td>\n",
              "      <td>15.69</td>\n",
              "      <td>16.46</td>\n",
              "      <td>NaN</td>\n",
              "      <td>0.97</td>\n",
              "      <td>24.55</td>\n",
              "      <td>34.06</td>\n",
              "      <td>3.68</td>\n",
              "      <td>5.50</td>\n",
              "      <td>3.77</td>\n",
              "      <td>NaN</td>\n",
              "      <td>NaN</td>\n",
              "    </tr>\n",
              "    <tr>\n",
              "      <th>2</th>\n",
              "      <td>Ahmedabad</td>\n",
              "      <td>2015-01-03</td>\n",
              "      <td>NaN</td>\n",
              "      <td>NaN</td>\n",
              "      <td>17.40</td>\n",
              "      <td>19.30</td>\n",
              "      <td>29.70</td>\n",
              "      <td>NaN</td>\n",
              "      <td>17.40</td>\n",
              "      <td>29.07</td>\n",
              "      <td>30.70</td>\n",
              "      <td>6.80</td>\n",
              "      <td>16.40</td>\n",
              "      <td>2.25</td>\n",
              "      <td>NaN</td>\n",
              "      <td>NaN</td>\n",
              "    </tr>\n",
              "    <tr>\n",
              "      <th>3</th>\n",
              "      <td>Ahmedabad</td>\n",
              "      <td>2015-01-04</td>\n",
              "      <td>NaN</td>\n",
              "      <td>NaN</td>\n",
              "      <td>1.70</td>\n",
              "      <td>18.48</td>\n",
              "      <td>17.97</td>\n",
              "      <td>NaN</td>\n",
              "      <td>1.70</td>\n",
              "      <td>18.59</td>\n",
              "      <td>36.08</td>\n",
              "      <td>4.43</td>\n",
              "      <td>10.14</td>\n",
              "      <td>1.00</td>\n",
              "      <td>NaN</td>\n",
              "      <td>NaN</td>\n",
              "    </tr>\n",
              "    <tr>\n",
              "      <th>4</th>\n",
              "      <td>Ahmedabad</td>\n",
              "      <td>2015-01-05</td>\n",
              "      <td>NaN</td>\n",
              "      <td>NaN</td>\n",
              "      <td>22.10</td>\n",
              "      <td>21.42</td>\n",
              "      <td>37.76</td>\n",
              "      <td>NaN</td>\n",
              "      <td>22.10</td>\n",
              "      <td>39.33</td>\n",
              "      <td>39.31</td>\n",
              "      <td>7.01</td>\n",
              "      <td>18.89</td>\n",
              "      <td>2.78</td>\n",
              "      <td>NaN</td>\n",
              "      <td>NaN</td>\n",
              "    </tr>\n",
              "  </tbody>\n",
              "</table>\n",
              "</div>"
            ],
            "text/plain": [
              "        City        Date  PM2.5  PM10     NO    NO2    NOx  NH3     CO    SO2  \\\n",
              "0  Ahmedabad  2015-01-01    NaN   NaN   0.92  18.22  17.15  NaN   0.92  27.64   \n",
              "1  Ahmedabad  2015-01-02    NaN   NaN   0.97  15.69  16.46  NaN   0.97  24.55   \n",
              "2  Ahmedabad  2015-01-03    NaN   NaN  17.40  19.30  29.70  NaN  17.40  29.07   \n",
              "3  Ahmedabad  2015-01-04    NaN   NaN   1.70  18.48  17.97  NaN   1.70  18.59   \n",
              "4  Ahmedabad  2015-01-05    NaN   NaN  22.10  21.42  37.76  NaN  22.10  39.33   \n",
              "\n",
              "       O3  Benzene  Toluene  Xylene  AQI AQI_Bucket  \n",
              "0  133.36     0.00     0.02    0.00  NaN        NaN  \n",
              "1   34.06     3.68     5.50    3.77  NaN        NaN  \n",
              "2   30.70     6.80    16.40    2.25  NaN        NaN  \n",
              "3   36.08     4.43    10.14    1.00  NaN        NaN  \n",
              "4   39.31     7.01    18.89    2.78  NaN        NaN  "
            ]
          },
          "execution_count": 55,
          "metadata": {},
          "output_type": "execute_result"
        }
      ],
      "source": [
        "df = pd.read_csv('https://raw.githubusercontent.com/5unof4Beach/IOT-2022/master/city_day.csv')\n",
        "df.head()"
      ]
    },
    {
      "cell_type": "code",
      "execution_count": 56,
      "id": "SJhWONMtOBTw",
      "metadata": {
        "id": "SJhWONMtOBTw"
      },
      "outputs": [
        {
          "name": "stdout",
          "output_type": "stream",
          "text": [
            "<class 'pandas.core.frame.DataFrame'>\n",
            "RangeIndex: 29531 entries, 0 to 29530\n",
            "Data columns (total 16 columns):\n",
            " #   Column      Non-Null Count  Dtype  \n",
            "---  ------      --------------  -----  \n",
            " 0   City        29531 non-null  object \n",
            " 1   Date        29531 non-null  object \n",
            " 2   PM2.5       24933 non-null  float64\n",
            " 3   PM10        18391 non-null  float64\n",
            " 4   NO          25949 non-null  float64\n",
            " 5   NO2         25946 non-null  float64\n",
            " 6   NOx         25346 non-null  float64\n",
            " 7   NH3         19203 non-null  float64\n",
            " 8   CO          27472 non-null  float64\n",
            " 9   SO2         25677 non-null  float64\n",
            " 10  O3          25509 non-null  float64\n",
            " 11  Benzene     23908 non-null  float64\n",
            " 12  Toluene     21490 non-null  float64\n",
            " 13  Xylene      11422 non-null  float64\n",
            " 14  AQI         24850 non-null  float64\n",
            " 15  AQI_Bucket  24850 non-null  object \n",
            "dtypes: float64(13), object(3)\n",
            "memory usage: 3.6+ MB\n"
          ]
        }
      ],
      "source": [
        "df.info()"
      ]
    },
    {
      "cell_type": "markdown",
      "id": "DH6xIqozA_gd",
      "metadata": {
        "id": "DH6xIqozA_gd"
      },
      "source": [
        "Data Cleansing"
      ]
    },
    {
      "cell_type": "code",
      "execution_count": 57,
      "id": "Q3i5p6CIOH8Q",
      "metadata": {
        "id": "Q3i5p6CIOH8Q"
      },
      "outputs": [
        {
          "data": {
            "text/plain": [
              "City              0\n",
              "Date              0\n",
              "PM2.5          4598\n",
              "PM10          11140\n",
              "NO             3582\n",
              "NO2            3585\n",
              "NOx            4185\n",
              "NH3           10328\n",
              "CO             2059\n",
              "SO2            3854\n",
              "O3             4022\n",
              "Benzene        5623\n",
              "Toluene        8041\n",
              "Xylene        18109\n",
              "AQI            4681\n",
              "AQI_Bucket     4681\n",
              "dtype: int64"
            ]
          },
          "execution_count": 57,
          "metadata": {},
          "output_type": "execute_result"
        }
      ],
      "source": [
        "df.isnull().sum()"
      ]
    },
    {
      "cell_type": "code",
      "execution_count": 58,
      "id": "3GZ0Ms7kONjI",
      "metadata": {
        "id": "3GZ0Ms7kONjI"
      },
      "outputs": [
        {
          "data": {
            "text/plain": [
              "City              0\n",
              "Date              0\n",
              "PM2.5          4598\n",
              "PM10          11140\n",
              "NO             3582\n",
              "NO2            3585\n",
              "NOx            4185\n",
              "NH3           10328\n",
              "CO             2059\n",
              "SO2            3854\n",
              "O3             4022\n",
              "Benzene        5623\n",
              "Toluene        8041\n",
              "Xylene        18109\n",
              "AQI            4681\n",
              "AQI_Bucket     4681\n",
              "dtype: int64"
            ]
          },
          "execution_count": 58,
          "metadata": {},
          "output_type": "execute_result"
        }
      ],
      "source": [
        "df.isna().sum()"
      ]
    },
    {
      "cell_type": "code",
      "execution_count": 59,
      "id": "yAfzGgyWOx-w",
      "metadata": {
        "id": "yAfzGgyWOx-w"
      },
      "outputs": [
        {
          "name": "stdout",
          "output_type": "stream",
          "text": [
            "<class 'pandas.core.frame.DataFrame'>\n",
            "RangeIndex: 29531 entries, 0 to 29530\n",
            "Data columns (total 16 columns):\n",
            " #   Column      Non-Null Count  Dtype  \n",
            "---  ------      --------------  -----  \n",
            " 0   City        29531 non-null  object \n",
            " 1   Date        29531 non-null  object \n",
            " 2   PM2.5       24933 non-null  float64\n",
            " 3   PM10        18391 non-null  float64\n",
            " 4   NO          25949 non-null  float64\n",
            " 5   NO2         25946 non-null  float64\n",
            " 6   NOx         25346 non-null  float64\n",
            " 7   NH3         19203 non-null  float64\n",
            " 8   CO          27472 non-null  float64\n",
            " 9   SO2         25677 non-null  float64\n",
            " 10  O3          25509 non-null  float64\n",
            " 11  Benzene     23908 non-null  float64\n",
            " 12  Toluene     21490 non-null  float64\n",
            " 13  Xylene      11422 non-null  float64\n",
            " 14  AQI         24850 non-null  float64\n",
            " 15  AQI_Bucket  24850 non-null  object \n",
            "dtypes: float64(13), object(3)\n",
            "memory usage: 3.6+ MB\n"
          ]
        }
      ],
      "source": [
        "df.drop_duplicates(keep='first', inplace=True)\n",
        "df = df.reset_index(drop=True)\n",
        "df.info()"
      ]
    },
    {
      "cell_type": "code",
      "execution_count": 60,
      "id": "302ce74d",
      "metadata": {
        "id": "302ce74d"
      },
      "outputs": [
        {
          "data": {
            "text/html": [
              "<div>\n",
              "<style scoped>\n",
              "    .dataframe tbody tr th:only-of-type {\n",
              "        vertical-align: middle;\n",
              "    }\n",
              "\n",
              "    .dataframe tbody tr th {\n",
              "        vertical-align: top;\n",
              "    }\n",
              "\n",
              "    .dataframe thead th {\n",
              "        text-align: right;\n",
              "    }\n",
              "</style>\n",
              "<table border=\"1\" class=\"dataframe\">\n",
              "  <thead>\n",
              "    <tr style=\"text-align: right;\">\n",
              "      <th></th>\n",
              "      <th>City</th>\n",
              "      <th>Date</th>\n",
              "      <th>PM2.5</th>\n",
              "      <th>PM10</th>\n",
              "      <th>NO</th>\n",
              "      <th>NO2</th>\n",
              "      <th>NOx</th>\n",
              "      <th>NH3</th>\n",
              "      <th>CO</th>\n",
              "      <th>SO2</th>\n",
              "      <th>O3</th>\n",
              "      <th>Benzene</th>\n",
              "      <th>Toluene</th>\n",
              "      <th>Xylene</th>\n",
              "      <th>AQI</th>\n",
              "      <th>AQI_Bucket</th>\n",
              "    </tr>\n",
              "  </thead>\n",
              "  <tbody>\n",
              "    <tr>\n",
              "      <th>0</th>\n",
              "      <td>Ahmedabad</td>\n",
              "      <td>2015-01-01</td>\n",
              "      <td>NaN</td>\n",
              "      <td>NaN</td>\n",
              "      <td>0.92</td>\n",
              "      <td>18.22</td>\n",
              "      <td>17.15</td>\n",
              "      <td>NaN</td>\n",
              "      <td>0.92</td>\n",
              "      <td>27.64</td>\n",
              "      <td>133.36</td>\n",
              "      <td>0.00</td>\n",
              "      <td>0.02</td>\n",
              "      <td>0.00</td>\n",
              "      <td>NaN</td>\n",
              "      <td>NaN</td>\n",
              "    </tr>\n",
              "    <tr>\n",
              "      <th>1</th>\n",
              "      <td>Ahmedabad</td>\n",
              "      <td>2015-01-02</td>\n",
              "      <td>NaN</td>\n",
              "      <td>NaN</td>\n",
              "      <td>0.97</td>\n",
              "      <td>15.69</td>\n",
              "      <td>16.46</td>\n",
              "      <td>NaN</td>\n",
              "      <td>0.97</td>\n",
              "      <td>24.55</td>\n",
              "      <td>34.06</td>\n",
              "      <td>3.68</td>\n",
              "      <td>5.50</td>\n",
              "      <td>3.77</td>\n",
              "      <td>NaN</td>\n",
              "      <td>NaN</td>\n",
              "    </tr>\n",
              "    <tr>\n",
              "      <th>2</th>\n",
              "      <td>Ahmedabad</td>\n",
              "      <td>2015-01-03</td>\n",
              "      <td>NaN</td>\n",
              "      <td>NaN</td>\n",
              "      <td>17.40</td>\n",
              "      <td>19.30</td>\n",
              "      <td>29.70</td>\n",
              "      <td>NaN</td>\n",
              "      <td>17.40</td>\n",
              "      <td>29.07</td>\n",
              "      <td>30.70</td>\n",
              "      <td>6.80</td>\n",
              "      <td>16.40</td>\n",
              "      <td>2.25</td>\n",
              "      <td>NaN</td>\n",
              "      <td>NaN</td>\n",
              "    </tr>\n",
              "    <tr>\n",
              "      <th>3</th>\n",
              "      <td>Ahmedabad</td>\n",
              "      <td>2015-01-04</td>\n",
              "      <td>NaN</td>\n",
              "      <td>NaN</td>\n",
              "      <td>1.70</td>\n",
              "      <td>18.48</td>\n",
              "      <td>17.97</td>\n",
              "      <td>NaN</td>\n",
              "      <td>1.70</td>\n",
              "      <td>18.59</td>\n",
              "      <td>36.08</td>\n",
              "      <td>4.43</td>\n",
              "      <td>10.14</td>\n",
              "      <td>1.00</td>\n",
              "      <td>NaN</td>\n",
              "      <td>NaN</td>\n",
              "    </tr>\n",
              "    <tr>\n",
              "      <th>4</th>\n",
              "      <td>Ahmedabad</td>\n",
              "      <td>2015-01-05</td>\n",
              "      <td>NaN</td>\n",
              "      <td>NaN</td>\n",
              "      <td>22.10</td>\n",
              "      <td>21.42</td>\n",
              "      <td>37.76</td>\n",
              "      <td>NaN</td>\n",
              "      <td>22.10</td>\n",
              "      <td>39.33</td>\n",
              "      <td>39.31</td>\n",
              "      <td>7.01</td>\n",
              "      <td>18.89</td>\n",
              "      <td>2.78</td>\n",
              "      <td>NaN</td>\n",
              "      <td>NaN</td>\n",
              "    </tr>\n",
              "  </tbody>\n",
              "</table>\n",
              "</div>"
            ],
            "text/plain": [
              "        City        Date  PM2.5  PM10     NO    NO2    NOx  NH3     CO    SO2  \\\n",
              "0  Ahmedabad  2015-01-01    NaN   NaN   0.92  18.22  17.15  NaN   0.92  27.64   \n",
              "1  Ahmedabad  2015-01-02    NaN   NaN   0.97  15.69  16.46  NaN   0.97  24.55   \n",
              "2  Ahmedabad  2015-01-03    NaN   NaN  17.40  19.30  29.70  NaN  17.40  29.07   \n",
              "3  Ahmedabad  2015-01-04    NaN   NaN   1.70  18.48  17.97  NaN   1.70  18.59   \n",
              "4  Ahmedabad  2015-01-05    NaN   NaN  22.10  21.42  37.76  NaN  22.10  39.33   \n",
              "\n",
              "       O3  Benzene  Toluene  Xylene  AQI AQI_Bucket  \n",
              "0  133.36     0.00     0.02    0.00  NaN        NaN  \n",
              "1   34.06     3.68     5.50    3.77  NaN        NaN  \n",
              "2   30.70     6.80    16.40    2.25  NaN        NaN  \n",
              "3   36.08     4.43    10.14    1.00  NaN        NaN  \n",
              "4   39.31     7.01    18.89    2.78  NaN        NaN  "
            ]
          },
          "execution_count": 60,
          "metadata": {},
          "output_type": "execute_result"
        }
      ],
      "source": [
        "df.head()"
      ]
    },
    {
      "cell_type": "code",
      "execution_count": 61,
      "id": "0199c33d",
      "metadata": {
        "id": "0199c33d"
      },
      "outputs": [
        {
          "name": "stdout",
          "output_type": "stream",
          "text": [
            "<class 'pandas.core.frame.DataFrame'>\n",
            "RangeIndex: 29531 entries, 0 to 29530\n",
            "Data columns (total 16 columns):\n",
            " #   Column      Non-Null Count  Dtype  \n",
            "---  ------      --------------  -----  \n",
            " 0   City        29531 non-null  object \n",
            " 1   Date        29531 non-null  object \n",
            " 2   PM2.5       24933 non-null  float64\n",
            " 3   PM10        18391 non-null  float64\n",
            " 4   NO          25949 non-null  float64\n",
            " 5   NO2         25946 non-null  float64\n",
            " 6   NOx         25346 non-null  float64\n",
            " 7   NH3         19203 non-null  float64\n",
            " 8   CO          27472 non-null  float64\n",
            " 9   SO2         25677 non-null  float64\n",
            " 10  O3          25509 non-null  float64\n",
            " 11  Benzene     23908 non-null  float64\n",
            " 12  Toluene     21490 non-null  float64\n",
            " 13  Xylene      11422 non-null  float64\n",
            " 14  AQI         24850 non-null  float64\n",
            " 15  AQI_Bucket  24850 non-null  object \n",
            "dtypes: float64(13), object(3)\n",
            "memory usage: 3.6+ MB\n"
          ]
        }
      ],
      "source": [
        "df.info() "
      ]
    },
    {
      "cell_type": "code",
      "execution_count": 81,
      "id": "zGXPPqhcGALW",
      "metadata": {
        "id": "zGXPPqhcGALW"
      },
      "outputs": [
        {
          "name": "stdout",
          "output_type": "stream",
          "text": [
            "Index(['City', 'Date', 'PM2.5', 'PM10', 'NO', 'NO2', 'NOx', 'NH3', 'CO', 'SO2',\n",
            "       'O3', 'Benzene', 'Toluene', 'Xylene', 'AQI'],\n",
            "      dtype='object')\n",
            "       City  Date  PM2.5   PM10     NO    NO2    NOx    NH3     CO    SO2  \\\n",
            "0       0.0   0.0   0.00   0.00   0.92  18.22  17.15   0.00   0.92  27.64   \n",
            "1       0.0   0.0   0.00   0.00   0.97  15.69  16.46   0.00   0.97  24.55   \n",
            "2       0.0   0.0   0.00   0.00  17.40  19.30  29.70   0.00  17.40  29.07   \n",
            "3       0.0   0.0   0.00   0.00   1.70  18.48  17.97   0.00   1.70  18.59   \n",
            "4       0.0   0.0   0.00   0.00  22.10  21.42  37.76   0.00  22.10  39.33   \n",
            "...     ...   ...    ...    ...    ...    ...    ...    ...    ...    ...   \n",
            "29526   0.0   0.0  15.02  50.94   7.68  25.06  19.54  12.47   0.47   8.55   \n",
            "29527   0.0   0.0  24.38  74.09   3.42  26.06  16.53  11.99   0.52  12.72   \n",
            "29528   0.0   0.0  22.91  65.73   3.45  29.53  18.33  10.71   0.48   8.42   \n",
            "29529   0.0   0.0  16.64  49.97   4.05  29.26  18.80  10.03   0.52   9.84   \n",
            "29530   0.0   0.0  15.00  66.00   0.40  26.85  14.05   5.20   0.59   2.10   \n",
            "\n",
            "           O3  Benzene  Toluene  Xylene   AQI    AQI_Bucket  \n",
            "0      133.36     0.00     0.02    0.00   0.0             0  \n",
            "1       34.06     3.68     5.50    3.77   0.0             0  \n",
            "2       30.70     6.80    16.40    2.25   0.0             0  \n",
            "3       36.08     4.43    10.14    1.00   0.0             0  \n",
            "4       39.31     7.01    18.89    2.78   0.0             0  \n",
            "...       ...      ...      ...     ...   ...           ...  \n",
            "29526   23.30     2.24    12.07    0.73  41.0          Good  \n",
            "29527   30.14     0.74     2.21    0.38  70.0  Satisfactory  \n",
            "29528   30.96     0.01     0.01    0.00  68.0  Satisfactory  \n",
            "29529   28.30     0.00     0.00    0.00  54.0  Satisfactory  \n",
            "29530   17.05     0.00     0.00    0.00  50.0          Good  \n",
            "\n",
            "[29531 rows x 16 columns]\n"
          ]
        }
      ],
      "source": [
        "print(df.columns.difference([df.columns[-1]], sort=False)) \n",
        "\n",
        "for x in df.columns.difference([df.columns[-1]], sort=False):\n",
        "    df[x] = pd.to_numeric(df[x], errors='coerce')\n",
        "    df[x] = df[x].fillna(0)\n",
        "\n",
        "df[df.columns[-1]] = df[df.columns[-1]].fillna(0)\n",
        "print(df)"
      ]
    },
    {
      "cell_type": "code",
      "execution_count": 82,
      "id": "cd4f2cd4",
      "metadata": {},
      "outputs": [
        {
          "data": {
            "text/plain": [
              "array([0, 'Poor', 'Very Poor', 'Severe', 'Moderate', 'Satisfactory',\n",
              "       'Good'], dtype=object)"
            ]
          },
          "execution_count": 82,
          "metadata": {},
          "output_type": "execute_result"
        }
      ],
      "source": [
        "df[df.columns[-1]].unique()"
      ]
    },
    {
      "cell_type": "code",
      "execution_count": 64,
      "id": "yuLfgFZlBR-F",
      "metadata": {
        "id": "yuLfgFZlBR-F"
      },
      "outputs": [
        {
          "name": "stdout",
          "output_type": "stream",
          "text": [
            "['City', 'Date', 'PM10', 'NO', 'NO2', 'NOx', 'NH3', 'CO', 'SO2', 'O3', 'Benzene', 'Toluene', 'Xylene', 'AQI', 'AQI_Bucket']\n"
          ]
        }
      ],
      "source": [
        "target = 'PM2.5'\n",
        "features = [x for x in df.columns if x not in target]\n",
        "print(features)"
      ]
    },
    {
      "cell_type": "code",
      "execution_count": 65,
      "id": "K_RXpV0bBZcd",
      "metadata": {
        "id": "K_RXpV0bBZcd"
      },
      "outputs": [],
      "source": [
        "def var(x):\n",
        "  s = 0\n",
        "  for item in x:\n",
        "    s+= (item-np.mean(x)) ** 2\n",
        "  return s / (len(x)-1)\n",
        "\n",
        "def cov(x, y):\n",
        "  s = 0\n",
        "  for i in range(0, len(x)):\n",
        "    s+= (x[i] -np.mean(x)) * (y[i]-np.mean(y))\n",
        "  return s / (len(x)-1)\n",
        "\n",
        "\n",
        "def cor(x, y):\n",
        "  return cov(x,y) / np.sqrt(var(x) * var(y))"
      ]
    },
    {
      "cell_type": "code",
      "execution_count": 66,
      "id": "Dtk_wUX_3tWi",
      "metadata": {
        "id": "Dtk_wUX_3tWi"
      },
      "outputs": [
        {
          "data": {
            "text/html": [
              "<div>\n",
              "<style scoped>\n",
              "    .dataframe tbody tr th:only-of-type {\n",
              "        vertical-align: middle;\n",
              "    }\n",
              "\n",
              "    .dataframe tbody tr th {\n",
              "        vertical-align: top;\n",
              "    }\n",
              "\n",
              "    .dataframe thead th {\n",
              "        text-align: right;\n",
              "    }\n",
              "</style>\n",
              "<table border=\"1\" class=\"dataframe\">\n",
              "  <thead>\n",
              "    <tr style=\"text-align: right;\">\n",
              "      <th></th>\n",
              "      <th>PM2.5</th>\n",
              "      <th>PM10</th>\n",
              "      <th>NO</th>\n",
              "      <th>NO2</th>\n",
              "      <th>NOx</th>\n",
              "      <th>NH3</th>\n",
              "      <th>CO</th>\n",
              "      <th>SO2</th>\n",
              "      <th>O3</th>\n",
              "      <th>Benzene</th>\n",
              "      <th>Toluene</th>\n",
              "      <th>Xylene</th>\n",
              "      <th>AQI</th>\n",
              "    </tr>\n",
              "  </thead>\n",
              "  <tbody>\n",
              "    <tr>\n",
              "      <th>0</th>\n",
              "      <td>0.00</td>\n",
              "      <td>0.00</td>\n",
              "      <td>0.92</td>\n",
              "      <td>18.22</td>\n",
              "      <td>17.15</td>\n",
              "      <td>0.00</td>\n",
              "      <td>0.92</td>\n",
              "      <td>27.64</td>\n",
              "      <td>133.36</td>\n",
              "      <td>0.00</td>\n",
              "      <td>0.02</td>\n",
              "      <td>0.00</td>\n",
              "      <td>0.0</td>\n",
              "    </tr>\n",
              "    <tr>\n",
              "      <th>1</th>\n",
              "      <td>0.00</td>\n",
              "      <td>0.00</td>\n",
              "      <td>0.97</td>\n",
              "      <td>15.69</td>\n",
              "      <td>16.46</td>\n",
              "      <td>0.00</td>\n",
              "      <td>0.97</td>\n",
              "      <td>24.55</td>\n",
              "      <td>34.06</td>\n",
              "      <td>3.68</td>\n",
              "      <td>5.50</td>\n",
              "      <td>3.77</td>\n",
              "      <td>0.0</td>\n",
              "    </tr>\n",
              "    <tr>\n",
              "      <th>2</th>\n",
              "      <td>0.00</td>\n",
              "      <td>0.00</td>\n",
              "      <td>17.40</td>\n",
              "      <td>19.30</td>\n",
              "      <td>29.70</td>\n",
              "      <td>0.00</td>\n",
              "      <td>17.40</td>\n",
              "      <td>29.07</td>\n",
              "      <td>30.70</td>\n",
              "      <td>6.80</td>\n",
              "      <td>16.40</td>\n",
              "      <td>2.25</td>\n",
              "      <td>0.0</td>\n",
              "    </tr>\n",
              "    <tr>\n",
              "      <th>3</th>\n",
              "      <td>0.00</td>\n",
              "      <td>0.00</td>\n",
              "      <td>1.70</td>\n",
              "      <td>18.48</td>\n",
              "      <td>17.97</td>\n",
              "      <td>0.00</td>\n",
              "      <td>1.70</td>\n",
              "      <td>18.59</td>\n",
              "      <td>36.08</td>\n",
              "      <td>4.43</td>\n",
              "      <td>10.14</td>\n",
              "      <td>1.00</td>\n",
              "      <td>0.0</td>\n",
              "    </tr>\n",
              "    <tr>\n",
              "      <th>4</th>\n",
              "      <td>0.00</td>\n",
              "      <td>0.00</td>\n",
              "      <td>22.10</td>\n",
              "      <td>21.42</td>\n",
              "      <td>37.76</td>\n",
              "      <td>0.00</td>\n",
              "      <td>22.10</td>\n",
              "      <td>39.33</td>\n",
              "      <td>39.31</td>\n",
              "      <td>7.01</td>\n",
              "      <td>18.89</td>\n",
              "      <td>2.78</td>\n",
              "      <td>0.0</td>\n",
              "    </tr>\n",
              "    <tr>\n",
              "      <th>...</th>\n",
              "      <td>...</td>\n",
              "      <td>...</td>\n",
              "      <td>...</td>\n",
              "      <td>...</td>\n",
              "      <td>...</td>\n",
              "      <td>...</td>\n",
              "      <td>...</td>\n",
              "      <td>...</td>\n",
              "      <td>...</td>\n",
              "      <td>...</td>\n",
              "      <td>...</td>\n",
              "      <td>...</td>\n",
              "      <td>...</td>\n",
              "    </tr>\n",
              "    <tr>\n",
              "      <th>9995</th>\n",
              "      <td>37.65</td>\n",
              "      <td>50.65</td>\n",
              "      <td>11.44</td>\n",
              "      <td>29.58</td>\n",
              "      <td>41.05</td>\n",
              "      <td>3.36</td>\n",
              "      <td>0.53</td>\n",
              "      <td>10.52</td>\n",
              "      <td>37.11</td>\n",
              "      <td>0.00</td>\n",
              "      <td>0.00</td>\n",
              "      <td>0.00</td>\n",
              "      <td>83.0</td>\n",
              "    </tr>\n",
              "    <tr>\n",
              "      <th>9996</th>\n",
              "      <td>52.48</td>\n",
              "      <td>61.45</td>\n",
              "      <td>12.21</td>\n",
              "      <td>31.26</td>\n",
              "      <td>43.46</td>\n",
              "      <td>3.19</td>\n",
              "      <td>0.58</td>\n",
              "      <td>12.90</td>\n",
              "      <td>47.02</td>\n",
              "      <td>0.00</td>\n",
              "      <td>0.00</td>\n",
              "      <td>0.00</td>\n",
              "      <td>74.0</td>\n",
              "    </tr>\n",
              "    <tr>\n",
              "      <th>9997</th>\n",
              "      <td>37.83</td>\n",
              "      <td>47.30</td>\n",
              "      <td>10.56</td>\n",
              "      <td>26.77</td>\n",
              "      <td>37.34</td>\n",
              "      <td>3.39</td>\n",
              "      <td>0.45</td>\n",
              "      <td>14.87</td>\n",
              "      <td>44.47</td>\n",
              "      <td>0.00</td>\n",
              "      <td>0.00</td>\n",
              "      <td>0.00</td>\n",
              "      <td>84.0</td>\n",
              "    </tr>\n",
              "    <tr>\n",
              "      <th>9998</th>\n",
              "      <td>43.18</td>\n",
              "      <td>49.36</td>\n",
              "      <td>11.09</td>\n",
              "      <td>28.47</td>\n",
              "      <td>39.56</td>\n",
              "      <td>3.44</td>\n",
              "      <td>0.47</td>\n",
              "      <td>12.56</td>\n",
              "      <td>37.82</td>\n",
              "      <td>0.00</td>\n",
              "      <td>0.00</td>\n",
              "      <td>0.00</td>\n",
              "      <td>67.0</td>\n",
              "    </tr>\n",
              "    <tr>\n",
              "      <th>9999</th>\n",
              "      <td>36.48</td>\n",
              "      <td>43.78</td>\n",
              "      <td>11.36</td>\n",
              "      <td>23.84</td>\n",
              "      <td>35.21</td>\n",
              "      <td>4.77</td>\n",
              "      <td>0.42</td>\n",
              "      <td>12.44</td>\n",
              "      <td>31.05</td>\n",
              "      <td>0.00</td>\n",
              "      <td>0.00</td>\n",
              "      <td>0.00</td>\n",
              "      <td>70.0</td>\n",
              "    </tr>\n",
              "  </tbody>\n",
              "</table>\n",
              "<p>10000 rows × 13 columns</p>\n",
              "</div>"
            ],
            "text/plain": [
              "      PM2.5   PM10     NO    NO2    NOx   NH3     CO    SO2      O3  Benzene  \\\n",
              "0      0.00   0.00   0.92  18.22  17.15  0.00   0.92  27.64  133.36     0.00   \n",
              "1      0.00   0.00   0.97  15.69  16.46  0.00   0.97  24.55   34.06     3.68   \n",
              "2      0.00   0.00  17.40  19.30  29.70  0.00  17.40  29.07   30.70     6.80   \n",
              "3      0.00   0.00   1.70  18.48  17.97  0.00   1.70  18.59   36.08     4.43   \n",
              "4      0.00   0.00  22.10  21.42  37.76  0.00  22.10  39.33   39.31     7.01   \n",
              "...     ...    ...    ...    ...    ...   ...    ...    ...     ...      ...   \n",
              "9995  37.65  50.65  11.44  29.58  41.05  3.36   0.53  10.52   37.11     0.00   \n",
              "9996  52.48  61.45  12.21  31.26  43.46  3.19   0.58  12.90   47.02     0.00   \n",
              "9997  37.83  47.30  10.56  26.77  37.34  3.39   0.45  14.87   44.47     0.00   \n",
              "9998  43.18  49.36  11.09  28.47  39.56  3.44   0.47  12.56   37.82     0.00   \n",
              "9999  36.48  43.78  11.36  23.84  35.21  4.77   0.42  12.44   31.05     0.00   \n",
              "\n",
              "      Toluene  Xylene   AQI  \n",
              "0        0.02    0.00   0.0  \n",
              "1        5.50    3.77   0.0  \n",
              "2       16.40    2.25   0.0  \n",
              "3       10.14    1.00   0.0  \n",
              "4       18.89    2.78   0.0  \n",
              "...       ...     ...   ...  \n",
              "9995     0.00    0.00  83.0  \n",
              "9996     0.00    0.00  74.0  \n",
              "9997     0.00    0.00  84.0  \n",
              "9998     0.00    0.00  67.0  \n",
              "9999     0.00    0.00  70.0  \n",
              "\n",
              "[10000 rows x 13 columns]"
            ]
          },
          "execution_count": 66,
          "metadata": {},
          "output_type": "execute_result"
        }
      ],
      "source": [
        "# df_drop = df.drop([df.index[i] for i in range(500, len(df))])\n",
        "df_drop = df.drop([df.columns[i] for i in range(-1,2)], axis=1) \n",
        "df_drop = df_drop.head(10000)\n",
        "df_drop "
      ]
    },
    {
      "cell_type": "code",
      "execution_count": 67,
      "id": "0ef68c48",
      "metadata": {},
      "outputs": [
        {
          "data": {
            "text/plain": [
              "PM2.5      0\n",
              "PM10       0\n",
              "NO         0\n",
              "NO2        0\n",
              "NOx        0\n",
              "NH3        0\n",
              "CO         0\n",
              "SO2        0\n",
              "O3         0\n",
              "Benzene    0\n",
              "Toluene    0\n",
              "Xylene     0\n",
              "AQI        0\n",
              "dtype: int64"
            ]
          },
          "execution_count": 67,
          "metadata": {},
          "output_type": "execute_result"
        }
      ],
      "source": [
        "df_drop.isna().sum()"
      ]
    },
    {
      "cell_type": "code",
      "execution_count": 68,
      "id": "1XM-O27f4fYO",
      "metadata": {
        "id": "1XM-O27f4fYO"
      },
      "outputs": [
        {
          "name": "stdout",
          "output_type": "stream",
          "text": [
            "            PM2.5      PM10        NO       NO2       NOx       NH3        CO  \\\n",
            "PM2.5    1.000000  0.359226  0.328798  0.367870  0.422568  0.092104  0.284824   \n",
            "PM10     0.359226  1.000000  0.159386  0.170661  0.234826 -0.027672 -0.111339   \n",
            "NO       0.328798  0.159386  1.000000  0.435174  0.733986  0.008748  0.577373   \n",
            "NO2      0.367870  0.170661  0.435174  1.000000  0.741962 -0.089670  0.583791   \n",
            "NOx      0.422568  0.234826  0.733986  0.741962  1.000000 -0.043845  0.590940   \n",
            "NH3      0.092104 -0.027672  0.008748 -0.089670 -0.043845  1.000000 -0.162518   \n",
            "CO       0.284824 -0.111339  0.577373  0.583791  0.590940 -0.162518  1.000000   \n",
            "SO2      0.308342 -0.017363  0.328565  0.681095  0.541739 -0.160680  0.615216   \n",
            "O3       0.247372  0.143400  0.083313  0.338219  0.234846  0.050391  0.131757   \n",
            "Benzene  0.068432  0.004542  0.111186  0.094970  0.128966 -0.000155  0.143832   \n",
            "Toluene  0.187360 -0.051204  0.261359  0.502937  0.417564 -0.139834  0.522645   \n",
            "Xylene   0.193045  0.125367  0.250533  0.237820  0.296460 -0.104147  0.254107   \n",
            "AQI      0.525328  0.065522  0.517497  0.656052  0.623739 -0.110416  0.818834   \n",
            "\n",
            "              SO2        O3   Benzene   Toluene    Xylene       AQI  \n",
            "PM2.5    0.308342  0.247372  0.068432  0.187360  0.193045  0.525328  \n",
            "PM10    -0.017363  0.143400  0.004542 -0.051204  0.125367  0.065522  \n",
            "NO       0.328565  0.083313  0.111186  0.261359  0.250533  0.517497  \n",
            "NO2      0.681095  0.338219  0.094970  0.502937  0.237820  0.656052  \n",
            "NOx      0.541739  0.234846  0.128966  0.417564  0.296460  0.623739  \n",
            "NH3     -0.160680  0.050391 -0.000155 -0.139834 -0.104147 -0.110416  \n",
            "CO       0.615216  0.131757  0.143832  0.522645  0.254107  0.818834  \n",
            "SO2      1.000000  0.273011  0.132448  0.559816  0.281065  0.653831  \n",
            "O3       0.273011  1.000000  0.019826  0.191000  0.079601  0.236667  \n",
            "Benzene  0.132448  0.019826  1.000000  0.258199  0.161900  0.122235  \n",
            "Toluene  0.559816  0.191000  0.258199  1.000000  0.344741  0.510657  \n",
            "Xylene   0.281065  0.079601  0.161900  0.344741  1.000000  0.306940  \n",
            "AQI      0.653831  0.236667  0.122235  0.510657  0.306940  1.000000  \n"
          ]
        }
      ],
      "source": [
        "corr_matrix = df_drop.corr()\n",
        "# for col1 in df_drop.columns.values:\n",
        "#   val = []\n",
        "#   for col2 in df_drop.columns.values:\n",
        "#     val.append(cor(df_drop[col1], df_drop[col2]))\n",
        "#   corr_matrix.append(val)\n",
        "print(corr_matrix)"
      ]
    },
    {
      "cell_type": "code",
      "execution_count": 69,
      "id": "eb7f27df",
      "metadata": {},
      "outputs": [
        {
          "data": {
            "image/png": "[encoded data removed]",
            "text/plain": [
              "<Figure size 1000x1000 with 2 Axes>"
            ]
          },
          "metadata": {},
          "output_type": "display_data"
        }
      ],
      "source": [
        "sns.heatmap(corr_matrix,annot = True,cmap='coolwarm',fmt='.3f', xticklabels=df_drop.columns, yticklabels=df_drop.columns)\n",
        "figure= plt.gcf()\n",
        "figure.set_size_inches(10,10)\n",
        "plt.show()"
      ]
    },
    {
      "cell_type": "markdown",
      "id": "fb60c0e0",
      "metadata": {},
      "source": [
        "Liệt kê chỉ số tương quan của các cặp từ nhỏ đến lớn"
      ]
    },
    {
      "cell_type": "code",
      "execution_count": 70,
      "id": "ef486aba",
      "metadata": {},
      "outputs": [
        {
          "data": {
            "text/plain": [
              "CO     NH3       -0.162518\n",
              "SO2    NH3       -0.160680\n",
              "NH3    Toluene   -0.139834\n",
              "PM10   CO        -0.111339\n",
              "NH3    AQI       -0.110416\n",
              "                    ...   \n",
              "NO2    SO2        0.681095\n",
              "NOx    NO         0.733986\n",
              "       NO2        0.741962\n",
              "AQI    CO         0.818834\n",
              "PM2.5  PM2.5      1.000000\n",
              "Length: 79, dtype: float64"
            ]
          },
          "execution_count": 70,
          "metadata": {},
          "output_type": "execute_result"
        }
      ],
      "source": [
        "corr_matrix.unstack().sort_values().drop_duplicates()"
      ]
    },
    {
      "cell_type": "code",
      "execution_count": 71,
      "id": "VmEtEXJo5gxX",
      "metadata": {
        "id": "VmEtEXJo5gxX"
      },
      "outputs": [
        {
          "name": "stdout",
          "output_type": "stream",
          "text": [
            "(20671, 15) (8860, 15) (20671,) (8860,)\n"
          ]
        }
      ],
      "source": [
        "X_train, X_test, y_train, y_test = train_test_split(df[features], df[target], test_size=0.3, random_state=42)\n",
        "print(X_train.shape, X_test.shape, y_train.shape, y_test.shape)"
      ]
    },
    {
      "cell_type": "code",
      "execution_count": 72,
      "id": "0RZjRmMH5-p-",
      "metadata": {
        "id": "0RZjRmMH5-p-"
      },
      "outputs": [
        {
          "name": "stdout",
          "output_type": "stream",
          "text": [
            "<class 'pandas.core.frame.DataFrame'>\n",
            "RangeIndex: 10000 entries, 0 to 9999\n",
            "Data columns (total 16 columns):\n",
            " #   Column      Non-Null Count  Dtype  \n",
            "---  ------      --------------  -----  \n",
            " 0   City        10000 non-null  float64\n",
            " 1   Date        10000 non-null  float64\n",
            " 2   PM2.5       10000 non-null  float64\n",
            " 3   PM10        10000 non-null  float64\n",
            " 4   NO          10000 non-null  float64\n",
            " 5   NO2         10000 non-null  float64\n",
            " 6   NOx         10000 non-null  float64\n",
            " 7   NH3         10000 non-null  float64\n",
            " 8   CO          10000 non-null  float64\n",
            " 9   SO2         10000 non-null  float64\n",
            " 10  O3          10000 non-null  float64\n",
            " 11  Benzene     10000 non-null  float64\n",
            " 12  Toluene     10000 non-null  float64\n",
            " 13  Xylene      10000 non-null  float64\n",
            " 14  AQI         10000 non-null  float64\n",
            " 15  AQI_Bucket  8640 non-null   object \n",
            "dtypes: float64(15), object(1)\n",
            "memory usage: 1.2+ MB\n"
          ]
        }
      ],
      "source": [
        "len(df)\n",
        "X_drop = df.drop([df.index[i] for i in range(10000, len(df))])\n",
        "X_drop.info()"
      ]
    },
    {
      "cell_type": "code",
      "execution_count": 73,
      "id": "UPIXGbSW6FAn",
      "metadata": {
        "id": "UPIXGbSW6FAn"
      },
      "outputs": [
        {
          "name": "stdout",
          "output_type": "stream",
          "text": [
            "(7000, 15) (3000, 15) (7000,) (3000,)\n"
          ]
        }
      ],
      "source": [
        "X_train_drop, X_test_drop, y_train_drop, y_test_drop = train_test_split(X_drop[features].values, X_drop[target].values, test_size=0.3, random_state=42)\n",
        "print(X_train_drop.shape,X_test_drop.shape,y_train_drop.shape,y_test_drop.shape)"
      ]
    },
    {
      "cell_type": "code",
      "execution_count": 74,
      "id": "GwRdYIZn6RjO",
      "metadata": {
        "id": "GwRdYIZn6RjO"
      },
      "outputs": [],
      "source": [
        "def BuildConfusionMatrix(y_test,pred):\n",
        "  TP = 0\n",
        "  FP = 0\n",
        "  TN = 0\n",
        "  FN = 0\n",
        "  for i in range(len(y_test)):\n",
        "    if (y_test[i]==pred[i]):\n",
        "        if pred[i] == 1:\n",
        "              TP += 1\n",
        "        else:\n",
        "              TN += 1\n",
        "    else:\n",
        "        if pred[i]==1:\n",
        "            FP += 1\n",
        "        else:\n",
        "            FN += 1\n",
        "  return [TN,FP,FN,TP]"
      ]
    },
    {
      "cell_type": "markdown",
      "id": "JK51LF4t5z3W",
      "metadata": {
        "id": "JK51LF4t5z3W"
      },
      "source": [
        "Sklearn"
      ]
    },
    {
      "cell_type": "markdown",
      "id": "iCaH8vZZ63LK",
      "metadata": {
        "id": "iCaH8vZZ63LK"
      },
      "source": [
        "KNN - Phùng Đức Cường (B19DCCN090)"
      ]
    },
    {
      "cell_type": "code",
      "execution_count": 75,
      "id": "9hdGzIei7tdm",
      "metadata": {
        "id": "9hdGzIei7tdm"
      },
      "outputs": [
        {
          "name": "stdout",
          "output_type": "stream",
          "text": [
            "(7000, 15) (3000, 15) (7000,) (3000,)\n"
          ]
        }
      ],
      "source": [
        "X_train_drop, X_test_drop, y_train_drop, y_test_drop = train_test_split(X_drop[features], X_drop[target], test_size=0.3, random_state=42)\n",
        "print(X_train_drop.shape,X_test_drop.shape,y_train_drop.shape,y_test_drop.shape)"
      ]
    },
    {
      "cell_type": "code",
      "execution_count": 76,
      "id": "tpN3HV2l7DKJ",
      "metadata": {
        "id": "tpN3HV2l7DKJ"
      },
      "outputs": [],
      "source": [
        "import math\n",
        "\n",
        "def euclide_distance(x1, x2):\n",
        "  distance = 0.0\n",
        "  for i in range(len(x1)):\n",
        "    distance += (x1[i] - x2[i]) ** 2\n",
        "  return math.sqrt(distance)\n",
        "\n",
        "class KNNClassification:\n",
        "  def __init__(self, k):\n",
        "    self.k = k\n",
        "\n",
        "  def fit(self, X, y):\n",
        "    self.X_train = X\n",
        "    self.y_train = y\n",
        "\n",
        "  def predict(self, X):\n",
        "    predictions = [self.do_predict(x) for x in X.values]\n",
        "    return predictions\n",
        "\n",
        "  def do_predict(self, x):\n",
        "    # Tinh khoang cach euclide\n",
        "    index = 0\n",
        "    distances = list()\n",
        "    for x_train in self.X_train.values:\n",
        "      dist = euclide_distance(x, x_train)\n",
        "      distances.append((index, dist))\n",
        "      index += 1\n",
        "\n",
        "\n",
        "    # Sap xep theo khoang cach euclide tang dan\n",
        "    distances.sort(key=lambda x: x[1])\n",
        "\n",
        "    # Lay ra K neighbors gan nhat\n",
        "    index_neighbors = list()\n",
        "        \n",
        "    for i in range(self.k):\n",
        "      index_neighbors.append(distances[i][0])\n",
        "\n",
        "      # Lay ra labels cua K neighbors\n",
        "       \n",
        "    labels = list()\n",
        "    count = 0\n",
        "    for value in self.y_train.values:\n",
        "      if count in index_neighbors:\n",
        "        labels.append(value)\n",
        "        index_neighbors.remove(count)\n",
        "      count += 1\n",
        "        \n",
        "        # tim labels co so lan xuat hien nhieu nhat\n",
        "    counter = 0\n",
        "    output = labels[0]        \n",
        "    for i in labels:\n",
        "      curr_frequency = labels.count(i)\n",
        "      if(curr_frequency> counter):\n",
        "        counter = curr_frequency\n",
        "        output = i\n",
        "    \n",
        "    return output\n"
      ]
    },
    {
      "cell_type": "code",
      "execution_count": 77,
      "id": "aac32c25",
      "metadata": {},
      "outputs": [
        {
          "name": "stdout",
          "output_type": "stream",
          "text": [
            "<class 'pandas.core.frame.DataFrame'>\n"
          ]
        }
      ],
      "source": [
        "print(type (X_test_drop))"
      ]
    },
    {
      "cell_type": "code",
      "execution_count": 78,
      "id": "2LnmOx52IcgS",
      "metadata": {
        "id": "2LnmOx52IcgS"
      },
      "outputs": [
        {
          "name": "stdout",
          "output_type": "stream",
          "text": [
            "None\n"
          ]
        },
        {
          "ename": "TypeError",
          "evalue": "unsupported operand type(s) for -: 'str' and 'str'",
          "output_type": "error",
          "traceback": [
            "\u001b[0;31m---------------------------------------------------------------------------\u001b[0m",
            "\u001b[0;31mTypeError\u001b[0m                                 Traceback (most recent call last)",
            "Cell \u001b[0;32mIn[78], line 6\u001b[0m\n\u001b[1;32m      4\u001b[0m model\u001b[39m.\u001b[39mfit(X_train_drop, y_train_drop)\n\u001b[1;32m      5\u001b[0m \u001b[39mprint\u001b[39m(model\u001b[39m.\u001b[39mfit(X_train_drop, y_train_drop))\n\u001b[0;32m----> 6\u001b[0m rs \u001b[39m=\u001b[39m model\u001b[39m.\u001b[39;49mpredict(X_test_drop)\n\u001b[1;32m      7\u001b[0m P \u001b[39m=\u001b[39m BuildConfusionMatrix(y_test_drop\u001b[39m.\u001b[39mvalues,rs)\n\u001b[1;32m      8\u001b[0m TN\u001b[39m=\u001b[39mP[\u001b[39m0\u001b[39m]\n",
            "Cell \u001b[0;32mIn[76], line 18\u001b[0m, in \u001b[0;36mKNNClassification.predict\u001b[0;34m(self, X)\u001b[0m\n\u001b[1;32m     17\u001b[0m \u001b[39mdef\u001b[39;00m \u001b[39mpredict\u001b[39m(\u001b[39mself\u001b[39m, X):\n\u001b[0;32m---> 18\u001b[0m   predictions \u001b[39m=\u001b[39m [\u001b[39mself\u001b[39m\u001b[39m.\u001b[39mdo_predict(x) \u001b[39mfor\u001b[39;00m x \u001b[39min\u001b[39;00m X\u001b[39m.\u001b[39mvalues]\n\u001b[1;32m     19\u001b[0m   \u001b[39mreturn\u001b[39;00m predictions\n",
            "Cell \u001b[0;32mIn[76], line 18\u001b[0m, in \u001b[0;36m<listcomp>\u001b[0;34m(.0)\u001b[0m\n\u001b[1;32m     17\u001b[0m \u001b[39mdef\u001b[39;00m \u001b[39mpredict\u001b[39m(\u001b[39mself\u001b[39m, X):\n\u001b[0;32m---> 18\u001b[0m   predictions \u001b[39m=\u001b[39m [\u001b[39mself\u001b[39;49m\u001b[39m.\u001b[39;49mdo_predict(x) \u001b[39mfor\u001b[39;00m x \u001b[39min\u001b[39;00m X\u001b[39m.\u001b[39mvalues]\n\u001b[1;32m     19\u001b[0m   \u001b[39mreturn\u001b[39;00m predictions\n",
            "Cell \u001b[0;32mIn[76], line 26\u001b[0m, in \u001b[0;36mKNNClassification.do_predict\u001b[0;34m(self, x)\u001b[0m\n\u001b[1;32m     24\u001b[0m distances \u001b[39m=\u001b[39m \u001b[39mlist\u001b[39m()\n\u001b[1;32m     25\u001b[0m \u001b[39mfor\u001b[39;00m x_train \u001b[39min\u001b[39;00m \u001b[39mself\u001b[39m\u001b[39m.\u001b[39mX_train\u001b[39m.\u001b[39mvalues:\n\u001b[0;32m---> 26\u001b[0m   dist \u001b[39m=\u001b[39m euclide_distance(x, x_train)\n\u001b[1;32m     27\u001b[0m   distances\u001b[39m.\u001b[39mappend((index, dist))\n\u001b[1;32m     28\u001b[0m   index \u001b[39m+\u001b[39m\u001b[39m=\u001b[39m \u001b[39m1\u001b[39m\n",
            "Cell \u001b[0;32mIn[76], line 6\u001b[0m, in \u001b[0;36meuclide_distance\u001b[0;34m(x1, x2)\u001b[0m\n\u001b[1;32m      4\u001b[0m distance \u001b[39m=\u001b[39m \u001b[39m0.0\u001b[39m\n\u001b[1;32m      5\u001b[0m \u001b[39mfor\u001b[39;00m i \u001b[39min\u001b[39;00m \u001b[39mrange\u001b[39m(\u001b[39mlen\u001b[39m(x1)):\n\u001b[0;32m----> 6\u001b[0m   distance \u001b[39m+\u001b[39m\u001b[39m=\u001b[39m (x1[i] \u001b[39m-\u001b[39;49m x2[i]) \u001b[39m*\u001b[39m\u001b[39m*\u001b[39m \u001b[39m2\u001b[39m\n\u001b[1;32m      7\u001b[0m \u001b[39mreturn\u001b[39;00m math\u001b[39m.\u001b[39msqrt(distance)\n",
            "\u001b[0;31mTypeError\u001b[0m: unsupported operand type(s) for -: 'str' and 'str'"
          ]
        }
      ],
      "source": [
        "ks = [k for k in range(5, 15)]\n",
        "for i in ks:\n",
        "  model = KNNClassification(i)\n",
        "  model.fit(X_train_drop, y_train_drop)\n",
        "  print(model.fit(X_train_drop, y_train_drop))\n",
        "  rs = model.predict(X_test_drop)\n",
        "  P = BuildConfusionMatrix(y_test_drop.values,rs)\n",
        "  TN=P[0]\n",
        "  FP=P[1]\n",
        "  FN=P[2]\n",
        "  TP=P[3]\n",
        "  print(f\"Accuracy for k= {i}: {round((TP+TN)/(TP+TN+FP+FN), 2) * 100}%\")"
      ]
    },
    {
      "cell_type": "code",
      "execution_count": null,
      "id": "K4cR4kgjIh8x",
      "metadata": {
        "id": "K4cR4kgjIh8x"
      },
      "outputs": [],
      "source": [
        "k = 13\n",
        "model = KNNClassification(k)\n",
        "model.fit(X_train_drop, y_train_drop)\n",
        "rs = model.predict(X_test_drop)"
      ]
    }
  ],
  "metadata": {
    "colab": {
      "provenance": []
    },
    "kernelspec": {
      "display_name": "Python 3.10.6 64-bit",
      "language": "python",
      "name": "python3"
    },
    "language_info": {
      "codemirror_mode": {
        "name": "ipython",
        "version": 3
      },
      "file_extension": ".py",
      "mimetype": "text/x-python",
      "name": "python",
      "nbconvert_exporter": "python",
      "pygments_lexer": "ipython3",
      "version": "3.10.6"
    },
    "vscode": {
      "interpreter": {
        "hash": "916dbcbb3f70747c44a77c7bcd40155683ae19c65e1c03b4aa3499c5328201f1"
      }
    }
  },
  "nbformat": 4,
  "nbformat_minor": 5
}
